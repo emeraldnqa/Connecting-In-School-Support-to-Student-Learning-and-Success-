{
 "cells": [
  {
   "cell_type": "markdown",
   "id": "aa770fc8-016b-4454-a19b-de2b70931b62",
   "metadata": {},
   "source": [
    "## Project proposal\n",
    "### Importing the dataset"
   ]
  },
  {
   "cell_type": "code",
   "execution_count": 6,
   "id": "10b39be0",
   "metadata": {},
   "outputs": [
    {
     "name": "stdout",
     "output_type": "stream",
     "text": [
      "\n",
      "The downloaded binary packages are in\n",
      "\t/var/folders/fb/5nf2l6vx4tj8839ndlppjshw0000gn/T//RtmpqNZGFj/downloaded_packages\n",
      "\n",
      "The downloaded binary packages are in\n",
      "\t/var/folders/fb/5nf2l6vx4tj8839ndlppjshw0000gn/T//RtmpqNZGFj/downloaded_packages\n",
      "\n",
      "The downloaded binary packages are in\n",
      "\t/var/folders/fb/5nf2l6vx4tj8839ndlppjshw0000gn/T//RtmpqNZGFj/downloaded_packages\n",
      "\n",
      "The downloaded binary packages are in\n",
      "\t/var/folders/fb/5nf2l6vx4tj8839ndlppjshw0000gn/T//RtmpqNZGFj/downloaded_packages\n"
     ]
    },
    {
     "name": "stderr",
     "output_type": "stream",
     "text": [
      "Warning message:\n",
      "“package ‘tidymodel’ is not available for this version of R\n",
      "\n",
      "A version of this package for your version of R might be available elsewhere,\n",
      "see the ideas at\n",
      "https://cran.r-project.org/doc/manuals/r-patched/R-admin.html#Installing-packages”\n"
     ]
    }
   ],
   "source": [
    "install.packages(\"cowplot\")\n",
    "install.packages(\"kknn\")\n",
    "install.packages(\"GGally\")\n",
    "install.packages('tidyverse')\n",
    "library(kknn)\n",
    "library(GGally)"
   ]
  },
  {
   "cell_type": "code",
   "execution_count": 7,
   "id": "1ae18915-9d41-4964-8aa0-ebca7bf19dfd",
   "metadata": {
    "tags": [],
    "vscode": {
     "languageId": "python"
    }
   },
   "outputs": [
    {
     "name": "stdout",
     "output_type": "stream",
     "text": [
      "\n",
      "The downloaded binary packages are in\n",
      "\t/var/folders/fb/5nf2l6vx4tj8839ndlppjshw0000gn/T//RtmpqNZGFj/downloaded_packages\n"
     ]
    },
    {
     "name": "stderr",
     "output_type": "stream",
     "text": [
      "\n",
      "Attaching package: ‘cowplot’\n",
      "\n",
      "\n",
      "The following object is masked from ‘package:lubridate’:\n",
      "\n",
      "    stamp\n",
      "\n",
      "\n"
     ]
    }
   ],
   "source": [
    "#import libraries\n",
    "install.packages(\"themis\")\n",
    "library(tidyverse)\n",
    "library(repr)\n",
    "options(repr.matrix.max.rows = 16)\n",
    "library(readxl)\n",
    "library(ggplot2)\n",
    "library(cowplot)"
   ]
  },
  {
   "cell_type": "markdown",
   "id": "e69531ae-1f82-49e4-92c5-74bc912f389e",
   "metadata": {},
   "source": [
    "## Dataset background\n",
    "- The dataset information can be found at: https://archive.ics.uci.edu/dataset/320/student+performance\n",
    "## Possible questions from the dataset\n",
    "- Proportion of students getting high to very high freetime after school in urban area in comparison of proportion of students getting high to very high freetime after school in rural area\n",
    "- Mean final grade of students receiving extra support from school and family in comparison to students getting no support from school and family\n",
    "- The mean number of absences for students in urban area in comparison to students in rural area. \n",
    "- Mean number of past class failures for students with family support in comparison to students with no family support. \n",
    "- mean final grade of students with a romantic relationship in comparison to the mean final grade of students with no romantic relationship."
   ]
  },
  {
   "cell_type": "markdown",
   "id": "1282a99b",
   "metadata": {},
   "source": [
    "## Final question for the dataset:\n",
    "- With this dataset, we would like to explore: Proportion of students getting high to very high freetime after school in urban area in comparison of proportion of students getting high to very high freetime after school in rural area\n",
    "- With this dataset, one location parameter that we will use is proportion of students getting high to very high free time after school. Another scale parameter is the standard deviation to see if the difference between two groups are by chance or not"
   ]
  },
  {
   "cell_type": "markdown",
   "id": "3128c7e0",
   "metadata": {},
   "source": [
    "## Import dataset"
   ]
  },
  {
   "cell_type": "code",
   "execution_count": 8,
   "id": "37d36e60-badb-436c-bbf1-778576d27295",
   "metadata": {
    "tags": []
   },
   "outputs": [
    {
     "name": "stderr",
     "output_type": "stream",
     "text": [
      "\u001b[36mℹ\u001b[39m Using \u001b[34m\u001b[34m\"','\"\u001b[34m\u001b[39m as decimal and \u001b[34m\u001b[34m\"'.'\"\u001b[34m\u001b[39m as grouping mark. Use `read_delim()` for more control.\n",
      "\n",
      "\u001b[1mRows: \u001b[22m\u001b[34m649\u001b[39m \u001b[1mColumns: \u001b[22m\u001b[34m33\u001b[39m\n",
      "\u001b[36m──\u001b[39m \u001b[1mColumn specification\u001b[22m \u001b[36m────────────────────────────────────────────────────────\u001b[39m\n",
      "\u001b[1mDelimiter:\u001b[22m \";\"\n",
      "\u001b[31mchr\u001b[39m (17): school, sex, address, famsize, Pstatus, Mjob, Fjob, reason, guardi...\n",
      "\u001b[32mdbl\u001b[39m (16): age, Medu, Fedu, traveltime, studytime, failures, famrel, freetime...\n",
      "\n",
      "\u001b[36mℹ\u001b[39m Use `spec()` to retrieve the full column specification for this data.\n",
      "\u001b[36mℹ\u001b[39m Specify the column types or set `show_col_types = FALSE` to quiet this message.\n"
     ]
    },
    {
     "data": {
      "text/html": [
       "<table class=\"dataframe\">\n",
       "<caption>A spec_tbl_df: 649 × 33</caption>\n",
       "<thead>\n",
       "\t<tr><th scope=col>school</th><th scope=col>sex</th><th scope=col>age</th><th scope=col>address</th><th scope=col>famsize</th><th scope=col>Pstatus</th><th scope=col>Medu</th><th scope=col>Fedu</th><th scope=col>Mjob</th><th scope=col>Fjob</th><th scope=col>⋯</th><th scope=col>famrel</th><th scope=col>freetime</th><th scope=col>goout</th><th scope=col>Dalc</th><th scope=col>Walc</th><th scope=col>health</th><th scope=col>absences</th><th scope=col>G1</th><th scope=col>G2</th><th scope=col>G3</th></tr>\n",
       "\t<tr><th scope=col>&lt;chr&gt;</th><th scope=col>&lt;chr&gt;</th><th scope=col>&lt;dbl&gt;</th><th scope=col>&lt;chr&gt;</th><th scope=col>&lt;chr&gt;</th><th scope=col>&lt;chr&gt;</th><th scope=col>&lt;dbl&gt;</th><th scope=col>&lt;dbl&gt;</th><th scope=col>&lt;chr&gt;</th><th scope=col>&lt;chr&gt;</th><th scope=col>⋯</th><th scope=col>&lt;dbl&gt;</th><th scope=col>&lt;dbl&gt;</th><th scope=col>&lt;dbl&gt;</th><th scope=col>&lt;dbl&gt;</th><th scope=col>&lt;dbl&gt;</th><th scope=col>&lt;dbl&gt;</th><th scope=col>&lt;dbl&gt;</th><th scope=col>&lt;dbl&gt;</th><th scope=col>&lt;dbl&gt;</th><th scope=col>&lt;dbl&gt;</th></tr>\n",
       "</thead>\n",
       "<tbody>\n",
       "\t<tr><td>GP</td><td>F</td><td>18</td><td>U</td><td>GT3</td><td>A</td><td>4</td><td>4</td><td>at_home </td><td>teacher </td><td>⋯</td><td>4</td><td>3</td><td>4</td><td>1</td><td>1</td><td>3</td><td>4</td><td> 0</td><td>11</td><td>11</td></tr>\n",
       "\t<tr><td>GP</td><td>F</td><td>17</td><td>U</td><td>GT3</td><td>T</td><td>1</td><td>1</td><td>at_home </td><td>other   </td><td>⋯</td><td>5</td><td>3</td><td>3</td><td>1</td><td>1</td><td>3</td><td>2</td><td> 9</td><td>11</td><td>11</td></tr>\n",
       "\t<tr><td>GP</td><td>F</td><td>15</td><td>U</td><td>LE3</td><td>T</td><td>1</td><td>1</td><td>at_home </td><td>other   </td><td>⋯</td><td>4</td><td>3</td><td>2</td><td>2</td><td>3</td><td>3</td><td>6</td><td>12</td><td>13</td><td>12</td></tr>\n",
       "\t<tr><td>GP</td><td>F</td><td>15</td><td>U</td><td>GT3</td><td>T</td><td>4</td><td>2</td><td>health  </td><td>services</td><td>⋯</td><td>3</td><td>2</td><td>2</td><td>1</td><td>1</td><td>5</td><td>0</td><td>14</td><td>14</td><td>14</td></tr>\n",
       "\t<tr><td>GP</td><td>F</td><td>16</td><td>U</td><td>GT3</td><td>T</td><td>3</td><td>3</td><td>other   </td><td>other   </td><td>⋯</td><td>4</td><td>3</td><td>2</td><td>1</td><td>2</td><td>5</td><td>0</td><td>11</td><td>13</td><td>13</td></tr>\n",
       "\t<tr><td>GP</td><td>M</td><td>16</td><td>U</td><td>LE3</td><td>T</td><td>4</td><td>3</td><td>services</td><td>other   </td><td>⋯</td><td>5</td><td>4</td><td>2</td><td>1</td><td>2</td><td>5</td><td>6</td><td>12</td><td>12</td><td>13</td></tr>\n",
       "\t<tr><td>GP</td><td>M</td><td>16</td><td>U</td><td>LE3</td><td>T</td><td>2</td><td>2</td><td>other   </td><td>other   </td><td>⋯</td><td>4</td><td>4</td><td>4</td><td>1</td><td>1</td><td>3</td><td>0</td><td>13</td><td>12</td><td>13</td></tr>\n",
       "\t<tr><td>GP</td><td>F</td><td>17</td><td>U</td><td>GT3</td><td>A</td><td>4</td><td>4</td><td>other   </td><td>teacher </td><td>⋯</td><td>4</td><td>1</td><td>4</td><td>1</td><td>1</td><td>1</td><td>2</td><td>10</td><td>13</td><td>13</td></tr>\n",
       "\t<tr><td>⋮</td><td>⋮</td><td>⋮</td><td>⋮</td><td>⋮</td><td>⋮</td><td>⋮</td><td>⋮</td><td>⋮</td><td>⋮</td><td>⋱</td><td>⋮</td><td>⋮</td><td>⋮</td><td>⋮</td><td>⋮</td><td>⋮</td><td>⋮</td><td>⋮</td><td>⋮</td><td>⋮</td></tr>\n",
       "\t<tr><td>MS</td><td>F</td><td>18</td><td>R</td><td>GT3</td><td>T</td><td>2</td><td>2</td><td>at_home </td><td>other   </td><td>⋯</td><td>5</td><td>3</td><td>3</td><td>1</td><td>3</td><td>4</td><td>0</td><td>14</td><td>17</td><td>15</td></tr>\n",
       "\t<tr><td>MS</td><td>F</td><td>17</td><td>U</td><td>GT3</td><td>T</td><td>4</td><td>3</td><td>teacher </td><td>other   </td><td>⋯</td><td>5</td><td>5</td><td>4</td><td>1</td><td>1</td><td>1</td><td>0</td><td> 6</td><td> 9</td><td>11</td></tr>\n",
       "\t<tr><td>MS</td><td>F</td><td>18</td><td>R</td><td>GT3</td><td>T</td><td>4</td><td>4</td><td>teacher </td><td>at_home </td><td>⋯</td><td>4</td><td>4</td><td>3</td><td>2</td><td>2</td><td>5</td><td>4</td><td> 7</td><td> 9</td><td>10</td></tr>\n",
       "\t<tr><td>MS</td><td>F</td><td>19</td><td>R</td><td>GT3</td><td>T</td><td>2</td><td>3</td><td>services</td><td>other   </td><td>⋯</td><td>5</td><td>4</td><td>2</td><td>1</td><td>2</td><td>5</td><td>4</td><td>10</td><td>11</td><td>10</td></tr>\n",
       "\t<tr><td>MS</td><td>F</td><td>18</td><td>U</td><td>LE3</td><td>T</td><td>3</td><td>1</td><td>teacher </td><td>services</td><td>⋯</td><td>4</td><td>3</td><td>4</td><td>1</td><td>1</td><td>1</td><td>4</td><td>15</td><td>15</td><td>16</td></tr>\n",
       "\t<tr><td>MS</td><td>F</td><td>18</td><td>U</td><td>GT3</td><td>T</td><td>1</td><td>1</td><td>other   </td><td>other   </td><td>⋯</td><td>1</td><td>1</td><td>1</td><td>1</td><td>1</td><td>5</td><td>6</td><td>11</td><td>12</td><td> 9</td></tr>\n",
       "\t<tr><td>MS</td><td>M</td><td>17</td><td>U</td><td>LE3</td><td>T</td><td>3</td><td>1</td><td>services</td><td>services</td><td>⋯</td><td>2</td><td>4</td><td>5</td><td>3</td><td>4</td><td>2</td><td>6</td><td>10</td><td>10</td><td>10</td></tr>\n",
       "\t<tr><td>MS</td><td>M</td><td>18</td><td>R</td><td>LE3</td><td>T</td><td>3</td><td>2</td><td>services</td><td>other   </td><td>⋯</td><td>4</td><td>4</td><td>1</td><td>3</td><td>4</td><td>5</td><td>4</td><td>10</td><td>11</td><td>11</td></tr>\n",
       "</tbody>\n",
       "</table>\n"
      ],
      "text/latex": [
       "A spec\\_tbl\\_df: 649 × 33\n",
       "\\begin{tabular}{lllllllllllllllllllll}\n",
       " school & sex & age & address & famsize & Pstatus & Medu & Fedu & Mjob & Fjob & ⋯ & famrel & freetime & goout & Dalc & Walc & health & absences & G1 & G2 & G3\\\\\n",
       " <chr> & <chr> & <dbl> & <chr> & <chr> & <chr> & <dbl> & <dbl> & <chr> & <chr> & ⋯ & <dbl> & <dbl> & <dbl> & <dbl> & <dbl> & <dbl> & <dbl> & <dbl> & <dbl> & <dbl>\\\\\n",
       "\\hline\n",
       "\t GP & F & 18 & U & GT3 & A & 4 & 4 & at\\_home  & teacher  & ⋯ & 4 & 3 & 4 & 1 & 1 & 3 & 4 &  0 & 11 & 11\\\\\n",
       "\t GP & F & 17 & U & GT3 & T & 1 & 1 & at\\_home  & other    & ⋯ & 5 & 3 & 3 & 1 & 1 & 3 & 2 &  9 & 11 & 11\\\\\n",
       "\t GP & F & 15 & U & LE3 & T & 1 & 1 & at\\_home  & other    & ⋯ & 4 & 3 & 2 & 2 & 3 & 3 & 6 & 12 & 13 & 12\\\\\n",
       "\t GP & F & 15 & U & GT3 & T & 4 & 2 & health   & services & ⋯ & 3 & 2 & 2 & 1 & 1 & 5 & 0 & 14 & 14 & 14\\\\\n",
       "\t GP & F & 16 & U & GT3 & T & 3 & 3 & other    & other    & ⋯ & 4 & 3 & 2 & 1 & 2 & 5 & 0 & 11 & 13 & 13\\\\\n",
       "\t GP & M & 16 & U & LE3 & T & 4 & 3 & services & other    & ⋯ & 5 & 4 & 2 & 1 & 2 & 5 & 6 & 12 & 12 & 13\\\\\n",
       "\t GP & M & 16 & U & LE3 & T & 2 & 2 & other    & other    & ⋯ & 4 & 4 & 4 & 1 & 1 & 3 & 0 & 13 & 12 & 13\\\\\n",
       "\t GP & F & 17 & U & GT3 & A & 4 & 4 & other    & teacher  & ⋯ & 4 & 1 & 4 & 1 & 1 & 1 & 2 & 10 & 13 & 13\\\\\n",
       "\t ⋮ & ⋮ & ⋮ & ⋮ & ⋮ & ⋮ & ⋮ & ⋮ & ⋮ & ⋮ & ⋱ & ⋮ & ⋮ & ⋮ & ⋮ & ⋮ & ⋮ & ⋮ & ⋮ & ⋮ & ⋮\\\\\n",
       "\t MS & F & 18 & R & GT3 & T & 2 & 2 & at\\_home  & other    & ⋯ & 5 & 3 & 3 & 1 & 3 & 4 & 0 & 14 & 17 & 15\\\\\n",
       "\t MS & F & 17 & U & GT3 & T & 4 & 3 & teacher  & other    & ⋯ & 5 & 5 & 4 & 1 & 1 & 1 & 0 &  6 &  9 & 11\\\\\n",
       "\t MS & F & 18 & R & GT3 & T & 4 & 4 & teacher  & at\\_home  & ⋯ & 4 & 4 & 3 & 2 & 2 & 5 & 4 &  7 &  9 & 10\\\\\n",
       "\t MS & F & 19 & R & GT3 & T & 2 & 3 & services & other    & ⋯ & 5 & 4 & 2 & 1 & 2 & 5 & 4 & 10 & 11 & 10\\\\\n",
       "\t MS & F & 18 & U & LE3 & T & 3 & 1 & teacher  & services & ⋯ & 4 & 3 & 4 & 1 & 1 & 1 & 4 & 15 & 15 & 16\\\\\n",
       "\t MS & F & 18 & U & GT3 & T & 1 & 1 & other    & other    & ⋯ & 1 & 1 & 1 & 1 & 1 & 5 & 6 & 11 & 12 &  9\\\\\n",
       "\t MS & M & 17 & U & LE3 & T & 3 & 1 & services & services & ⋯ & 2 & 4 & 5 & 3 & 4 & 2 & 6 & 10 & 10 & 10\\\\\n",
       "\t MS & M & 18 & R & LE3 & T & 3 & 2 & services & other    & ⋯ & 4 & 4 & 1 & 3 & 4 & 5 & 4 & 10 & 11 & 11\\\\\n",
       "\\end{tabular}\n"
      ],
      "text/markdown": [
       "\n",
       "A spec_tbl_df: 649 × 33\n",
       "\n",
       "| school &lt;chr&gt; | sex &lt;chr&gt; | age &lt;dbl&gt; | address &lt;chr&gt; | famsize &lt;chr&gt; | Pstatus &lt;chr&gt; | Medu &lt;dbl&gt; | Fedu &lt;dbl&gt; | Mjob &lt;chr&gt; | Fjob &lt;chr&gt; | ⋯ ⋯ | famrel &lt;dbl&gt; | freetime &lt;dbl&gt; | goout &lt;dbl&gt; | Dalc &lt;dbl&gt; | Walc &lt;dbl&gt; | health &lt;dbl&gt; | absences &lt;dbl&gt; | G1 &lt;dbl&gt; | G2 &lt;dbl&gt; | G3 &lt;dbl&gt; |\n",
       "|---|---|---|---|---|---|---|---|---|---|---|---|---|---|---|---|---|---|---|---|---|\n",
       "| GP | F | 18 | U | GT3 | A | 4 | 4 | at_home  | teacher  | ⋯ | 4 | 3 | 4 | 1 | 1 | 3 | 4 |  0 | 11 | 11 |\n",
       "| GP | F | 17 | U | GT3 | T | 1 | 1 | at_home  | other    | ⋯ | 5 | 3 | 3 | 1 | 1 | 3 | 2 |  9 | 11 | 11 |\n",
       "| GP | F | 15 | U | LE3 | T | 1 | 1 | at_home  | other    | ⋯ | 4 | 3 | 2 | 2 | 3 | 3 | 6 | 12 | 13 | 12 |\n",
       "| GP | F | 15 | U | GT3 | T | 4 | 2 | health   | services | ⋯ | 3 | 2 | 2 | 1 | 1 | 5 | 0 | 14 | 14 | 14 |\n",
       "| GP | F | 16 | U | GT3 | T | 3 | 3 | other    | other    | ⋯ | 4 | 3 | 2 | 1 | 2 | 5 | 0 | 11 | 13 | 13 |\n",
       "| GP | M | 16 | U | LE3 | T | 4 | 3 | services | other    | ⋯ | 5 | 4 | 2 | 1 | 2 | 5 | 6 | 12 | 12 | 13 |\n",
       "| GP | M | 16 | U | LE3 | T | 2 | 2 | other    | other    | ⋯ | 4 | 4 | 4 | 1 | 1 | 3 | 0 | 13 | 12 | 13 |\n",
       "| GP | F | 17 | U | GT3 | A | 4 | 4 | other    | teacher  | ⋯ | 4 | 1 | 4 | 1 | 1 | 1 | 2 | 10 | 13 | 13 |\n",
       "| ⋮ | ⋮ | ⋮ | ⋮ | ⋮ | ⋮ | ⋮ | ⋮ | ⋮ | ⋮ | ⋱ | ⋮ | ⋮ | ⋮ | ⋮ | ⋮ | ⋮ | ⋮ | ⋮ | ⋮ | ⋮ |\n",
       "| MS | F | 18 | R | GT3 | T | 2 | 2 | at_home  | other    | ⋯ | 5 | 3 | 3 | 1 | 3 | 4 | 0 | 14 | 17 | 15 |\n",
       "| MS | F | 17 | U | GT3 | T | 4 | 3 | teacher  | other    | ⋯ | 5 | 5 | 4 | 1 | 1 | 1 | 0 |  6 |  9 | 11 |\n",
       "| MS | F | 18 | R | GT3 | T | 4 | 4 | teacher  | at_home  | ⋯ | 4 | 4 | 3 | 2 | 2 | 5 | 4 |  7 |  9 | 10 |\n",
       "| MS | F | 19 | R | GT3 | T | 2 | 3 | services | other    | ⋯ | 5 | 4 | 2 | 1 | 2 | 5 | 4 | 10 | 11 | 10 |\n",
       "| MS | F | 18 | U | LE3 | T | 3 | 1 | teacher  | services | ⋯ | 4 | 3 | 4 | 1 | 1 | 1 | 4 | 15 | 15 | 16 |\n",
       "| MS | F | 18 | U | GT3 | T | 1 | 1 | other    | other    | ⋯ | 1 | 1 | 1 | 1 | 1 | 5 | 6 | 11 | 12 |  9 |\n",
       "| MS | M | 17 | U | LE3 | T | 3 | 1 | services | services | ⋯ | 2 | 4 | 5 | 3 | 4 | 2 | 6 | 10 | 10 | 10 |\n",
       "| MS | M | 18 | R | LE3 | T | 3 | 2 | services | other    | ⋯ | 4 | 4 | 1 | 3 | 4 | 5 | 4 | 10 | 11 | 11 |\n",
       "\n"
      ],
      "text/plain": [
       "    school sex age address famsize Pstatus Medu Fedu Mjob     Fjob     ⋯ famrel\n",
       "1   GP     F   18  U       GT3     A       4    4    at_home  teacher  ⋯ 4     \n",
       "2   GP     F   17  U       GT3     T       1    1    at_home  other    ⋯ 5     \n",
       "3   GP     F   15  U       LE3     T       1    1    at_home  other    ⋯ 4     \n",
       "4   GP     F   15  U       GT3     T       4    2    health   services ⋯ 3     \n",
       "5   GP     F   16  U       GT3     T       3    3    other    other    ⋯ 4     \n",
       "6   GP     M   16  U       LE3     T       4    3    services other    ⋯ 5     \n",
       "7   GP     M   16  U       LE3     T       2    2    other    other    ⋯ 4     \n",
       "8   GP     F   17  U       GT3     A       4    4    other    teacher  ⋯ 4     \n",
       "⋮   ⋮      ⋮   ⋮   ⋮       ⋮       ⋮       ⋮    ⋮    ⋮        ⋮        ⋱ ⋮     \n",
       "642 MS     F   18  R       GT3     T       2    2    at_home  other    ⋯ 5     \n",
       "643 MS     F   17  U       GT3     T       4    3    teacher  other    ⋯ 5     \n",
       "644 MS     F   18  R       GT3     T       4    4    teacher  at_home  ⋯ 4     \n",
       "645 MS     F   19  R       GT3     T       2    3    services other    ⋯ 5     \n",
       "646 MS     F   18  U       LE3     T       3    1    teacher  services ⋯ 4     \n",
       "647 MS     F   18  U       GT3     T       1    1    other    other    ⋯ 1     \n",
       "648 MS     M   17  U       LE3     T       3    1    services services ⋯ 2     \n",
       "649 MS     M   18  R       LE3     T       3    2    services other    ⋯ 4     \n",
       "    freetime goout Dalc Walc health absences G1 G2 G3\n",
       "1   3        4     1    1    3      4         0 11 11\n",
       "2   3        3     1    1    3      2         9 11 11\n",
       "3   3        2     2    3    3      6        12 13 12\n",
       "4   2        2     1    1    5      0        14 14 14\n",
       "5   3        2     1    2    5      0        11 13 13\n",
       "6   4        2     1    2    5      6        12 12 13\n",
       "7   4        4     1    1    3      0        13 12 13\n",
       "8   1        4     1    1    1      2        10 13 13\n",
       "⋮   ⋮        ⋮     ⋮    ⋮    ⋮      ⋮        ⋮  ⋮  ⋮ \n",
       "642 3        3     1    3    4      0        14 17 15\n",
       "643 5        4     1    1    1      0         6  9 11\n",
       "644 4        3     2    2    5      4         7  9 10\n",
       "645 4        2     1    2    5      4        10 11 10\n",
       "646 3        4     1    1    1      4        15 15 16\n",
       "647 1        1     1    1    5      6        11 12  9\n",
       "648 4        5     3    4    2      6        10 10 10\n",
       "649 4        1     3    4    5      4        10 11 11"
      ]
     },
     "metadata": {},
     "output_type": "display_data"
    }
   ],
   "source": [
    "studenturl<- \"https://archive.ics.uci.edu/static/public/320/student+performance.zip\"\n",
    "temp <- tempfile()\n",
    "download.file(studenturl,temp)\n",
    "studentzip <- unzip(temp, \"student.zip\")\n",
    "studentfile <- unzip(studentzip,\"student-por.csv\")\n",
    "student <- read_csv2(studentfile, col_names = TRUE)\n",
    "\n",
    "student"
   ]
  },
  {
   "cell_type": "markdown",
   "id": "4e2b45b2",
   "metadata": {},
   "source": [
    "## Clean and wrangle dataset\n",
    "- For this dataset, we will select the variable of interest, along with filtering out any data that is invalid (i.e NA)\n",
    "- After that we will filter out the freetime after school information to be 3 and above (indicating high to very high free time)"
   ]
  },
  {
   "cell_type": "code",
   "execution_count": 30,
   "id": "aa81613e",
   "metadata": {},
   "outputs": [
    {
     "data": {
      "text/html": [
       "<table class=\"dataframe\">\n",
       "<caption>A tibble: 1 × 4</caption>\n",
       "<thead>\n",
       "\t<tr><th scope=col>n_rural</th><th scope=col>n_urban</th><th scope=col>prop_rural</th><th scope=col>prop_urban</th></tr>\n",
       "\t<tr><th scope=col>&lt;int&gt;</th><th scope=col>&lt;int&gt;</th><th scope=col>&lt;dbl&gt;</th><th scope=col>&lt;dbl&gt;</th></tr>\n",
       "</thead>\n",
       "<tbody>\n",
       "\t<tr><td>197</td><td>452</td><td>0.4060914</td><td>0.3672566</td></tr>\n",
       "</tbody>\n",
       "</table>\n"
      ],
      "text/latex": [
       "A tibble: 1 × 4\n",
       "\\begin{tabular}{llll}\n",
       " n\\_rural & n\\_urban & prop\\_rural & prop\\_urban\\\\\n",
       " <int> & <int> & <dbl> & <dbl>\\\\\n",
       "\\hline\n",
       "\t 197 & 452 & 0.4060914 & 0.3672566\\\\\n",
       "\\end{tabular}\n"
      ],
      "text/markdown": [
       "\n",
       "A tibble: 1 × 4\n",
       "\n",
       "| n_rural &lt;int&gt; | n_urban &lt;int&gt; | prop_rural &lt;dbl&gt; | prop_urban &lt;dbl&gt; |\n",
       "|---|---|---|---|\n",
       "| 197 | 452 | 0.4060914 | 0.3672566 |\n",
       "\n"
      ],
      "text/plain": [
       "  n_rural n_urban prop_rural prop_urban\n",
       "1 197     452     0.4060914  0.3672566 "
      ]
     },
     "metadata": {},
     "output_type": "display_data"
    }
   ],
   "source": [
    "select_student <- student %>%\n",
    "                  select(address, freetime)%>%\n",
    "                  filter(!is.na(address) & !is.na(freetime))\n",
    "\n",
    "highfree_student <- select_student %>%\n",
    "                    filter(freetime > 3)\n",
    "\n",
    "n_ruralstudent <- select_student %>%\n",
    "                  filter(address == \"R\")%>%\n",
    "                  summarize(n_rural = n())\n",
    "n_urbanstudent <- select_student %>%\n",
    "                  filter(address == \"U\")%>%\n",
    "                  summarize(n_urban = n())\n",
    "prop_rural <- highfree_student %>%\n",
    "              filter(address == \"R\") %>%\n",
    "              summarize(prop_rural = n()/pull(n_ruralstudent, n_rural))\n",
    "prop_urban <- highfree_student %>%\n",
    "              filter(address == \"U\") %>%\n",
    "              summarize(prop_urban = n()/pull(n_urbanstudent, n_urban))\n",
    "student_summary <- tibble(n_ruralstudent,n_urbanstudent,prop_rural,prop_urban)\n",
    "student_summary"
   ]
  },
  {
   "cell_type": "markdown",
   "id": "9527c206",
   "metadata": {},
   "source": [
    "## Plot the raw data\n",
    "- We will plot the students freetime according to their address in a bargraph to see the proportion of students freetime in both category"
   ]
  },
  {
   "cell_type": "code",
   "execution_count": 39,
   "id": "318ee020",
   "metadata": {},
   "outputs": [
    {
     "name": "stderr",
     "output_type": "stream",
     "text": [
      "\u001b[1m\u001b[22m`summarise()` has grouped output by 'address'. You can override using the\n",
      "`.groups` argument.\n"
     ]
    },
    {
     "data": {
      "text/html": [
       "<table class=\"dataframe\">\n",
       "<caption>A grouped_df: 4 × 3</caption>\n",
       "<thead>\n",
       "\t<tr><th scope=col>address</th><th scope=col>freetime</th><th scope=col>count</th></tr>\n",
       "\t<tr><th scope=col>&lt;chr&gt;</th><th scope=col>&lt;lgl&gt;</th><th scope=col>&lt;int&gt;</th></tr>\n",
       "</thead>\n",
       "<tbody>\n",
       "\t<tr><td>R</td><td>FALSE</td><td>117</td></tr>\n",
       "\t<tr><td>R</td><td> TRUE</td><td> 80</td></tr>\n",
       "\t<tr><td>U</td><td>FALSE</td><td>286</td></tr>\n",
       "\t<tr><td>U</td><td> TRUE</td><td>166</td></tr>\n",
       "</tbody>\n",
       "</table>\n"
      ],
      "text/latex": [
       "A grouped\\_df: 4 × 3\n",
       "\\begin{tabular}{lll}\n",
       " address & freetime & count\\\\\n",
       " <chr> & <lgl> & <int>\\\\\n",
       "\\hline\n",
       "\t R & FALSE & 117\\\\\n",
       "\t R &  TRUE &  80\\\\\n",
       "\t U & FALSE & 286\\\\\n",
       "\t U &  TRUE & 166\\\\\n",
       "\\end{tabular}\n"
      ],
      "text/markdown": [
       "\n",
       "A grouped_df: 4 × 3\n",
       "\n",
       "| address &lt;chr&gt; | freetime &lt;lgl&gt; | count &lt;int&gt; |\n",
       "|---|---|---|\n",
       "| R | FALSE | 117 |\n",
       "| R |  TRUE |  80 |\n",
       "| U | FALSE | 286 |\n",
       "| U |  TRUE | 166 |\n",
       "\n"
      ],
      "text/plain": [
       "  address freetime count\n",
       "1 R       FALSE    117  \n",
       "2 R        TRUE     80  \n",
       "3 U       FALSE    286  \n",
       "4 U        TRUE    166  "
      ]
     },
     "metadata": {},
     "output_type": "display_data"
    }
   ],
   "source": [
    "mutate_student <- select_student %>%\n",
    "                  mutate(freetime = freetime > 3) \n",
    "student_summary <- mutate_student %>%\n",
    "                   group_by(address, freetime)%>%\n",
    "                   summarize(count = n())\n",
    "student_summary"
   ]
  },
  {
   "cell_type": "code",
   "execution_count": 41,
   "id": "70b794e0",
   "metadata": {},
   "outputs": [
    {
     "data": {
      "image/png": "[encoded data removed]",
      "text/plain": [
       "plot without title"
      ]
     },
     "metadata": {
      "image/png": {
       "height": 420,
       "width": 420
      }
     },
     "output_type": "display_data"
    }
   ],
   "source": [
    "bargraph <- student_summary %>%\n",
    "            ggplot(aes(x=address,y=count,fill=freetime))+\n",
    "            geom_bar(stat=\"identity\")\n",
    "bargraph"
   ]
  },
  {
   "cell_type": "code",
   "execution_count": null,
   "id": "1559f314",
   "metadata": {},
   "outputs": [],
   "source": []
  }
 ],
 "metadata": {
  "kernelspec": {
   "display_name": "R",
   "language": "R",
   "name": "ir"
  },
  "language_info": {
   "codemirror_mode": "r",
   "file_extension": ".r",
   "mimetype": "text/x-r-source",
   "name": "R",
   "pygments_lexer": "r",
   "version": "4.3.1"
  }
 },
 "nbformat": 4,
 "nbformat_minor": 5
}
